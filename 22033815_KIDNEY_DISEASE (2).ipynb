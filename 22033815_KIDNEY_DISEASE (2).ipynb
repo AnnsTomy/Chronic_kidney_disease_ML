{
  "nbformat": 4,
  "nbformat_minor": 0,
  "metadata": {
    "colab": {
      "provenance": []
    },
    "kernelspec": {
      "name": "python3",
      "display_name": "Python 3"
    },
    "language_info": {
      "name": "python"
    }
  },
  "cells": [
    {
      "cell_type": "markdown",
      "source": [
        "For the starting I am going to import some libraries for the processing of the dataset"
      ],
      "metadata": {
        "id": "sBY2oavrIAz9"
      }
    },
    {
      "cell_type": "code",
      "source": [
        "#import libraries\n",
        "import numpy as np\n",
        "import matplotlib.pyplot as plt\n",
        "import pandas as pd\n",
        "import seaborn as sns\n",
        "import sklearn\n",
        "from sklearn.preprocessing import LabelEncoder"
      ],
      "metadata": {
        "id": "5c21kq_VIQrl"
      },
      "execution_count": 1,
      "outputs": []
    },
    {
      "cell_type": "code",
      "source": [
        "!pip install ucimlrepo"
      ],
      "metadata": {
        "colab": {
          "base_uri": "https://localhost:8080/"
        },
        "id": "Fzz867T7J1FM",
        "outputId": "3cfb1ce1-8e5e-4255-ab90-1663e78ac1a8"
      },
      "execution_count": 2,
      "outputs": [
        {
          "output_type": "stream",
          "name": "stdout",
          "text": [
            "Collecting ucimlrepo\n",
            "  Downloading ucimlrepo-0.0.7-py3-none-any.whl.metadata (5.5 kB)\n",
            "Requirement already satisfied: pandas>=1.0.0 in /usr/local/lib/python3.10/dist-packages (from ucimlrepo) (2.2.2)\n",
            "Requirement already satisfied: certifi>=2020.12.5 in /usr/local/lib/python3.10/dist-packages (from ucimlrepo) (2024.8.30)\n",
            "Requirement already satisfied: numpy>=1.22.4 in /usr/local/lib/python3.10/dist-packages (from pandas>=1.0.0->ucimlrepo) (1.26.4)\n",
            "Requirement already satisfied: python-dateutil>=2.8.2 in /usr/local/lib/python3.10/dist-packages (from pandas>=1.0.0->ucimlrepo) (2.8.2)\n",
            "Requirement already satisfied: pytz>=2020.1 in /usr/local/lib/python3.10/dist-packages (from pandas>=1.0.0->ucimlrepo) (2024.2)\n",
            "Requirement already satisfied: tzdata>=2022.7 in /usr/local/lib/python3.10/dist-packages (from pandas>=1.0.0->ucimlrepo) (2024.2)\n",
            "Requirement already satisfied: six>=1.5 in /usr/local/lib/python3.10/dist-packages (from python-dateutil>=2.8.2->pandas>=1.0.0->ucimlrepo) (1.16.0)\n",
            "Downloading ucimlrepo-0.0.7-py3-none-any.whl (8.0 kB)\n",
            "Installing collected packages: ucimlrepo\n",
            "Successfully installed ucimlrepo-0.0.7\n"
          ]
        }
      ]
    },
    {
      "cell_type": "markdown",
      "source": [
        "Since the dataset was a zip file downloaded from UCI repository. I extracted it to a file and upload in the google drive. But it was a different file so I am just using the import python from the site. directly loading to the google colab."
      ],
      "metadata": {
        "id": "P-WcdJPCI8ri"
      }
    },
    {
      "cell_type": "code",
      "source": [
        "from ucimlrepo import fetch_ucirepo\n",
        "\n",
        "# fetch dataset\n",
        "data_chronic_kidney = fetch_ucirepo(id=336)\n",
        "\n",
        "# data (as pandas dataframes)\n",
        "X_kidney = data_chronic_kidney.data.features\n",
        "y_kidney = data_chronic_kidney.data.targets\n",
        "\n",
        "# metadata\n",
        "print(data_chronic_kidney.metadata)\n",
        "\n",
        "# variable information\n",
        "print(data_chronic_kidney.variables)\n",
        "\n",
        "#print X_kidney\n",
        "print(X_kidney)\n",
        "\n",
        "#print the target variables\n",
        "print(y_kidney)\n",
        "\n"
      ],
      "metadata": {
        "colab": {
          "base_uri": "https://localhost:8080/"
        },
        "id": "RyHNdSrAI8UE",
        "outputId": "e04ecc60-6f55-4972-a040-911f48523044"
      },
      "execution_count": 3,
      "outputs": [
        {
          "output_type": "stream",
          "name": "stdout",
          "text": [
            "{'uci_id': 336, 'name': 'Chronic Kidney Disease', 'repository_url': 'https://archive.ics.uci.edu/dataset/336/chronic+kidney+disease', 'data_url': 'https://archive.ics.uci.edu/static/public/336/data.csv', 'abstract': 'This dataset can be used to predict the chronic kidney disease and it can be collected from the hospital nearly 2 months of period.', 'area': 'Other', 'tasks': ['Classification'], 'characteristics': ['Multivariate'], 'num_instances': 400, 'num_features': 24, 'feature_types': ['Real'], 'demographics': ['Age'], 'target_col': ['class'], 'index_col': None, 'has_missing_values': 'yes', 'missing_values_symbol': 'NaN', 'year_of_dataset_creation': 2015, 'last_updated': 'Mon Mar 04 2024', 'dataset_doi': '10.24432/C5G020', 'creators': ['L. Rubini', 'P. Soundarapandian', 'P. Eswaran'], 'intro_paper': None, 'additional_info': {'summary': 'We use the following representation to collect the dataset\\r\\n                        age\\t\\t-\\tage\\t\\r\\n\\t\\t\\tbp\\t\\t-\\tblood pressure\\r\\n\\t\\t\\tsg\\t\\t-\\tspecific gravity\\r\\n\\t\\t\\tal\\t\\t-   \\talbumin\\r\\n\\t\\t\\tsu\\t\\t-\\tsugar\\r\\n\\t\\t\\trbc\\t\\t-\\tred blood cells\\r\\n\\t\\t\\tpc\\t\\t-\\tpus cell\\r\\n\\t\\t\\tpcc\\t\\t-\\tpus cell clumps\\r\\n\\t\\t\\tba\\t\\t-\\tbacteria\\r\\n\\t\\t\\tbgr\\t\\t-\\tblood glucose random\\r\\n\\t\\t\\tbu\\t\\t-\\tblood urea\\r\\n\\t\\t\\tsc\\t\\t-\\tserum creatinine\\r\\n\\t\\t\\tsod\\t\\t-\\tsodium\\r\\n\\t\\t\\tpot\\t\\t-\\tpotassium\\r\\n\\t\\t\\themo\\t\\t-\\themoglobin\\r\\n\\t\\t\\tpcv\\t\\t-\\tpacked cell volume\\r\\n\\t\\t\\twc\\t\\t-\\twhite blood cell count\\r\\n\\t\\t\\trc\\t\\t-\\tred blood cell count\\r\\n\\t\\t\\thtn\\t\\t-\\thypertension\\r\\n\\t\\t\\tdm\\t\\t-\\tdiabetes mellitus\\r\\n\\t\\t\\tcad\\t\\t-\\tcoronary artery disease\\r\\n\\t\\t\\tappet\\t\\t-\\tappetite\\r\\n\\t\\t\\tpe\\t\\t-\\tpedal edema\\r\\n\\t\\t\\tane\\t\\t-\\tanemia\\r\\n\\t\\t\\tclass\\t\\t-\\tclass\\t', 'purpose': None, 'funded_by': None, 'instances_represent': None, 'recommended_data_splits': None, 'sensitive_data': None, 'preprocessing_description': None, 'variable_info': 'We use 24 + class = 25 ( 11  numeric ,14  nominal)\\r\\n1.Age(numerical)\\r\\n  \\t  \\tage in years\\r\\n \\t2.Blood Pressure(numerical)\\r\\n\\t       \\tbp in mm/Hg\\r\\n \\t3.Specific Gravity(nominal)\\r\\n\\t  \\tsg - (1.005,1.010,1.015,1.020,1.025)\\r\\n \\t4.Albumin(nominal)\\r\\n\\t\\tal - (0,1,2,3,4,5)\\r\\n \\t5.Sugar(nominal)\\r\\n\\t\\tsu - (0,1,2,3,4,5)\\r\\n \\t6.Red Blood Cells(nominal)\\r\\n\\t\\trbc - (normal,abnormal)\\r\\n \\t7.Pus Cell (nominal)\\r\\n\\t\\tpc - (normal,abnormal)\\r\\n \\t8.Pus Cell clumps(nominal)\\r\\n\\t\\tpcc - (present,notpresent)\\r\\n \\t9.Bacteria(nominal)\\r\\n\\t\\tba  - (present,notpresent)\\r\\n \\t10.Blood Glucose Random(numerical)\\t\\t\\r\\n\\t\\tbgr in mgs/dl\\r\\n \\t11.Blood Urea(numerical)\\t\\r\\n\\t\\tbu in mgs/dl\\r\\n \\t12.Serum Creatinine(numerical)\\t\\r\\n\\t\\tsc in mgs/dl\\r\\n \\t13.Sodium(numerical)\\r\\n\\t\\tsod in mEq/L\\r\\n \\t14.Potassium(numerical)\\t\\r\\n\\t\\tpot in mEq/L\\r\\n \\t15.Hemoglobin(numerical)\\r\\n\\t\\themo in gms\\r\\n \\t16.Packed  Cell Volume(numerical)\\r\\n \\t17.White Blood Cell Count(numerical)\\r\\n\\t\\twc in cells/cumm\\r\\n \\t18.Red Blood Cell Count(numerical)\\t\\r\\n\\t\\trc in millions/cmm\\r\\n \\t19.Hypertension(nominal)\\t\\r\\n\\t\\thtn - (yes,no)\\r\\n \\t20.Diabetes Mellitus(nominal)\\t\\r\\n\\t\\tdm - (yes,no)\\r\\n \\t21.Coronary Artery Disease(nominal)\\r\\n\\t\\tcad - (yes,no)\\r\\n \\t22.Appetite(nominal)\\t\\r\\n\\t\\tappet - (good,poor)\\r\\n \\t23.Pedal Edema(nominal)\\r\\n\\t\\tpe - (yes,no)\\t\\r\\n \\t24.Anemia(nominal)\\r\\n\\t\\tane - (yes,no)\\r\\n \\t25.Class (nominal)\\t\\t\\r\\n\\t\\tclass - (ckd,notckd)', 'citation': None}}\n",
            "     name     role         type demographic              description  \\\n",
            "0     age  Feature      Integer         Age                     None   \n",
            "1      bp  Feature      Integer        None           blood pressure   \n",
            "2      sg  Feature  Categorical        None         specific gravity   \n",
            "3      al  Feature  Categorical        None                  albumin   \n",
            "4      su  Feature  Categorical        None                    sugar   \n",
            "5     rbc  Feature       Binary        None          red blood cells   \n",
            "6      pc  Feature       Binary        None                 pus cell   \n",
            "7     pcc  Feature       Binary        None          pus cell clumps   \n",
            "8      ba  Feature       Binary        None                 bacteria   \n",
            "9     bgr  Feature      Integer        None     blood glucose random   \n",
            "10     bu  Feature      Integer        None               blood urea   \n",
            "11     sc  Feature   Continuous        None         serum creatinine   \n",
            "12    sod  Feature      Integer        None                   sodium   \n",
            "13    pot  Feature   Continuous        None                potassium   \n",
            "14   hemo  Feature   Continuous        None               hemoglobin   \n",
            "15    pcv  Feature      Integer        None       packed cell volume   \n",
            "16   wbcc  Feature      Integer        None   white blood cell count   \n",
            "17   rbcc  Feature   Continuous        None     red blood cell count   \n",
            "18    htn  Feature       Binary        None             hypertension   \n",
            "19     dm  Feature       Binary        None        diabetes mellitus   \n",
            "20    cad  Feature       Binary        None  coronary artery disease   \n",
            "21  appet  Feature       Binary        None                 appetite   \n",
            "22     pe  Feature       Binary        None              pedal edema   \n",
            "23    ane  Feature       Binary        None                   anemia   \n",
            "24  class   Target       Binary        None           ckd or not ckd   \n",
            "\n",
            "           units missing_values  \n",
            "0           year            yes  \n",
            "1          mm/Hg            yes  \n",
            "2           None            yes  \n",
            "3           None            yes  \n",
            "4           None            yes  \n",
            "5           None            yes  \n",
            "6           None            yes  \n",
            "7           None            yes  \n",
            "8           None            yes  \n",
            "9         mgs/dl            yes  \n",
            "10        mgs/dl            yes  \n",
            "11        mgs/dl            yes  \n",
            "12         mEq/L            yes  \n",
            "13         mEq/L            yes  \n",
            "14           gms            yes  \n",
            "15          None            yes  \n",
            "16     cells/cmm            yes  \n",
            "17  millions/cmm            yes  \n",
            "18          None            yes  \n",
            "19          None            yes  \n",
            "20          None            yes  \n",
            "21          None            yes  \n",
            "22          None            yes  \n",
            "23          None            yes  \n",
            "24          None             no  \n",
            "      age    bp     sg   al   su     rbc        pc         pcc          ba  \\\n",
            "0    48.0  80.0  1.020  1.0  0.0     NaN    normal  notpresent  notpresent   \n",
            "1     7.0  50.0  1.020  4.0  0.0     NaN    normal  notpresent  notpresent   \n",
            "2    62.0  80.0  1.010  2.0  3.0  normal    normal  notpresent  notpresent   \n",
            "3    48.0  70.0  1.005  4.0  0.0  normal  abnormal     present  notpresent   \n",
            "4    51.0  80.0  1.010  2.0  0.0  normal    normal  notpresent  notpresent   \n",
            "..    ...   ...    ...  ...  ...     ...       ...         ...         ...   \n",
            "395  55.0  80.0  1.020  0.0  0.0  normal    normal  notpresent  notpresent   \n",
            "396  42.0  70.0  1.025  0.0  0.0  normal    normal  notpresent  notpresent   \n",
            "397  12.0  80.0  1.020  0.0  0.0  normal    normal  notpresent  notpresent   \n",
            "398  17.0  60.0  1.025  0.0  0.0  normal    normal  notpresent  notpresent   \n",
            "399  58.0  80.0  1.025  0.0  0.0  normal    normal  notpresent  notpresent   \n",
            "\n",
            "       bgr  ...  hemo   pcv    wbcc  rbcc  htn   dm  cad  appet   pe  ane  \n",
            "0    121.0  ...  15.4  44.0  7800.0   5.2  yes  yes   no   good   no   no  \n",
            "1      NaN  ...  11.3  38.0  6000.0   NaN   no   no   no   good   no   no  \n",
            "2    423.0  ...   9.6  31.0  7500.0   NaN   no  yes   no   poor   no  yes  \n",
            "3    117.0  ...  11.2  32.0  6700.0   3.9  yes   no   no   poor  yes  yes  \n",
            "4    106.0  ...  11.6  35.0  7300.0   4.6   no   no   no   good   no   no  \n",
            "..     ...  ...   ...   ...     ...   ...  ...  ...  ...    ...  ...  ...  \n",
            "395  140.0  ...  15.7  47.0  6700.0   4.9   no   no   no   good   no   no  \n",
            "396   75.0  ...  16.5  54.0  7800.0   6.2   no   no   no   good   no   no  \n",
            "397  100.0  ...  15.8  49.0  6600.0   5.4   no   no   no   good   no   no  \n",
            "398  114.0  ...  14.2  51.0  7200.0   5.9   no   no   no   good   no   no  \n",
            "399  131.0  ...  15.8  53.0  6800.0   6.1   no   no   no   good   no   no  \n",
            "\n",
            "[400 rows x 24 columns]\n",
            "      class\n",
            "0       ckd\n",
            "1       ckd\n",
            "2       ckd\n",
            "3       ckd\n",
            "4       ckd\n",
            "..      ...\n",
            "395  notckd\n",
            "396  notckd\n",
            "397  notckd\n",
            "398  notckd\n",
            "399  notckd\n",
            "\n",
            "[400 rows x 1 columns]\n"
          ]
        }
      ]
    },
    {
      "cell_type": "code",
      "source": [
        "#print X_kidney\n",
        "print(X_kidney)"
      ],
      "metadata": {
        "id": "GBdCKKPnGVrO",
        "outputId": "6ce253f4-e8a3-444b-83db-16bceb467789",
        "colab": {
          "base_uri": "https://localhost:8080/"
        }
      },
      "execution_count": 4,
      "outputs": [
        {
          "output_type": "stream",
          "name": "stdout",
          "text": [
            "      age    bp     sg   al   su     rbc        pc         pcc          ba  \\\n",
            "0    48.0  80.0  1.020  1.0  0.0     NaN    normal  notpresent  notpresent   \n",
            "1     7.0  50.0  1.020  4.0  0.0     NaN    normal  notpresent  notpresent   \n",
            "2    62.0  80.0  1.010  2.0  3.0  normal    normal  notpresent  notpresent   \n",
            "3    48.0  70.0  1.005  4.0  0.0  normal  abnormal     present  notpresent   \n",
            "4    51.0  80.0  1.010  2.0  0.0  normal    normal  notpresent  notpresent   \n",
            "..    ...   ...    ...  ...  ...     ...       ...         ...         ...   \n",
            "395  55.0  80.0  1.020  0.0  0.0  normal    normal  notpresent  notpresent   \n",
            "396  42.0  70.0  1.025  0.0  0.0  normal    normal  notpresent  notpresent   \n",
            "397  12.0  80.0  1.020  0.0  0.0  normal    normal  notpresent  notpresent   \n",
            "398  17.0  60.0  1.025  0.0  0.0  normal    normal  notpresent  notpresent   \n",
            "399  58.0  80.0  1.025  0.0  0.0  normal    normal  notpresent  notpresent   \n",
            "\n",
            "       bgr  ...  hemo   pcv    wbcc  rbcc  htn   dm  cad  appet   pe  ane  \n",
            "0    121.0  ...  15.4  44.0  7800.0   5.2  yes  yes   no   good   no   no  \n",
            "1      NaN  ...  11.3  38.0  6000.0   NaN   no   no   no   good   no   no  \n",
            "2    423.0  ...   9.6  31.0  7500.0   NaN   no  yes   no   poor   no  yes  \n",
            "3    117.0  ...  11.2  32.0  6700.0   3.9  yes   no   no   poor  yes  yes  \n",
            "4    106.0  ...  11.6  35.0  7300.0   4.6   no   no   no   good   no   no  \n",
            "..     ...  ...   ...   ...     ...   ...  ...  ...  ...    ...  ...  ...  \n",
            "395  140.0  ...  15.7  47.0  6700.0   4.9   no   no   no   good   no   no  \n",
            "396   75.0  ...  16.5  54.0  7800.0   6.2   no   no   no   good   no   no  \n",
            "397  100.0  ...  15.8  49.0  6600.0   5.4   no   no   no   good   no   no  \n",
            "398  114.0  ...  14.2  51.0  7200.0   5.9   no   no   no   good   no   no  \n",
            "399  131.0  ...  15.8  53.0  6800.0   6.1   no   no   no   good   no   no  \n",
            "\n",
            "[400 rows x 24 columns]\n"
          ]
        }
      ]
    },
    {
      "cell_type": "markdown",
      "source": [
        "Checking for missing values"
      ],
      "metadata": {
        "id": "uY5IqgW8XJab"
      }
    },
    {
      "cell_type": "code",
      "source": [
        "X_miss_kid = X_kidney.isnull().sum()\n",
        "print(X_miss_kid)"
      ],
      "metadata": {
        "colab": {
          "base_uri": "https://localhost:8080/"
        },
        "id": "LoGs9yJfXQpw",
        "outputId": "eb4a0868-9f42-4318-a9c3-e82b0303ebcf"
      },
      "execution_count": 5,
      "outputs": [
        {
          "output_type": "stream",
          "name": "stdout",
          "text": [
            "age        9\n",
            "bp        12\n",
            "sg        47\n",
            "al        46\n",
            "su        49\n",
            "rbc      152\n",
            "pc        65\n",
            "pcc        4\n",
            "ba         4\n",
            "bgr       44\n",
            "bu        19\n",
            "sc        17\n",
            "sod       87\n",
            "pot       88\n",
            "hemo      52\n",
            "pcv       71\n",
            "wbcc     106\n",
            "rbcc     131\n",
            "htn        2\n",
            "dm         2\n",
            "cad        2\n",
            "appet      1\n",
            "pe         1\n",
            "ane        1\n",
            "dtype: int64\n"
          ]
        }
      ]
    },
    {
      "cell_type": "markdown",
      "source": [
        "It have missing values"
      ],
      "metadata": {
        "id": "4tbbXIVoHto8"
      }
    },
    {
      "cell_type": "code",
      "source": [
        "Y_miss_kid = y_kidney.isnull().sum()\n",
        "print(Y_miss_kid)"
      ],
      "metadata": {
        "colab": {
          "base_uri": "https://localhost:8080/"
        },
        "id": "9Tq8ZoiLX_YG",
        "outputId": "89f95f80-fbf4-4016-87a0-274357fc54eb"
      },
      "execution_count": 6,
      "outputs": [
        {
          "output_type": "stream",
          "name": "stdout",
          "text": [
            "class    0\n",
            "dtype: int64\n"
          ]
        }
      ]
    },
    {
      "cell_type": "markdown",
      "source": [
        "Since the target varible doesnt have any null values we dont require to drop nan"
      ],
      "metadata": {
        "id": "F1cT1x6UW6kY"
      }
    },
    {
      "cell_type": "markdown",
      "source": [
        "Next i am going to find the summary statistics of the data"
      ],
      "metadata": {
        "id": "Ckx30RmQXYjp"
      }
    },
    {
      "cell_type": "code",
      "source": [
        "#print the summary statistics of the data\n",
        "X_kidney.describe()\n"
      ],
      "metadata": {
        "colab": {
          "base_uri": "https://localhost:8080/",
          "height": 300
        },
        "id": "aMHUnpeMXDvV",
        "outputId": "ce1792e6-55c0-425e-a8c5-c79b9b8f4afc"
      },
      "execution_count": 7,
      "outputs": [
        {
          "output_type": "execute_result",
          "data": {
            "text/plain": [
              "              age          bp          sg          al          su         bgr  \\\n",
              "count  391.000000  388.000000  353.000000  354.000000  351.000000  356.000000   \n",
              "mean    51.483376   76.469072    1.017408    1.016949    0.450142  148.036517   \n",
              "std     17.169714   13.683637    0.005717    1.352679    1.099191   79.281714   \n",
              "min      2.000000   50.000000    1.005000    0.000000    0.000000   22.000000   \n",
              "25%     42.000000   70.000000    1.010000    0.000000    0.000000   99.000000   \n",
              "50%     55.000000   80.000000    1.020000    0.000000    0.000000  121.000000   \n",
              "75%     64.500000   80.000000    1.020000    2.000000    0.000000  163.000000   \n",
              "max     90.000000  180.000000    1.025000    5.000000    5.000000  490.000000   \n",
              "\n",
              "               bu          sc         sod         pot        hemo         pcv  \\\n",
              "count  381.000000  383.000000  313.000000  312.000000  348.000000  329.000000   \n",
              "mean    57.425722    3.072454  137.528754    4.627244   12.526437   38.884498   \n",
              "std     50.503006    5.741126   10.408752    3.193904    2.912587    8.990105   \n",
              "min      1.500000    0.400000    4.500000    2.500000    3.100000    9.000000   \n",
              "25%     27.000000    0.900000  135.000000    3.800000   10.300000   32.000000   \n",
              "50%     42.000000    1.300000  138.000000    4.400000   12.650000   40.000000   \n",
              "75%     66.000000    2.800000  142.000000    4.900000   15.000000   45.000000   \n",
              "max    391.000000   76.000000  163.000000   47.000000   17.800000   54.000000   \n",
              "\n",
              "               wbcc        rbcc  \n",
              "count    294.000000  269.000000  \n",
              "mean    8406.122449    4.707435  \n",
              "std     2944.474190    1.025323  \n",
              "min     2200.000000    2.100000  \n",
              "25%     6500.000000    3.900000  \n",
              "50%     8000.000000    4.800000  \n",
              "75%     9800.000000    5.400000  \n",
              "max    26400.000000    8.000000  "
            ],
            "text/html": [
              "\n",
              "  <div id=\"df-3e7d4f91-617b-490e-9c70-92acd06b3433\" class=\"colab-df-container\">\n",
              "    <div>\n",
              "<style scoped>\n",
              "    .dataframe tbody tr th:only-of-type {\n",
              "        vertical-align: middle;\n",
              "    }\n",
              "\n",
              "    .dataframe tbody tr th {\n",
              "        vertical-align: top;\n",
              "    }\n",
              "\n",
              "    .dataframe thead th {\n",
              "        text-align: right;\n",
              "    }\n",
              "</style>\n",
              "<table border=\"1\" class=\"dataframe\">\n",
              "  <thead>\n",
              "    <tr style=\"text-align: right;\">\n",
              "      <th></th>\n",
              "      <th>age</th>\n",
              "      <th>bp</th>\n",
              "      <th>sg</th>\n",
              "      <th>al</th>\n",
              "      <th>su</th>\n",
              "      <th>bgr</th>\n",
              "      <th>bu</th>\n",
              "      <th>sc</th>\n",
              "      <th>sod</th>\n",
              "      <th>pot</th>\n",
              "      <th>hemo</th>\n",
              "      <th>pcv</th>\n",
              "      <th>wbcc</th>\n",
              "      <th>rbcc</th>\n",
              "    </tr>\n",
              "  </thead>\n",
              "  <tbody>\n",
              "    <tr>\n",
              "      <th>count</th>\n",
              "      <td>391.000000</td>\n",
              "      <td>388.000000</td>\n",
              "      <td>353.000000</td>\n",
              "      <td>354.000000</td>\n",
              "      <td>351.000000</td>\n",
              "      <td>356.000000</td>\n",
              "      <td>381.000000</td>\n",
              "      <td>383.000000</td>\n",
              "      <td>313.000000</td>\n",
              "      <td>312.000000</td>\n",
              "      <td>348.000000</td>\n",
              "      <td>329.000000</td>\n",
              "      <td>294.000000</td>\n",
              "      <td>269.000000</td>\n",
              "    </tr>\n",
              "    <tr>\n",
              "      <th>mean</th>\n",
              "      <td>51.483376</td>\n",
              "      <td>76.469072</td>\n",
              "      <td>1.017408</td>\n",
              "      <td>1.016949</td>\n",
              "      <td>0.450142</td>\n",
              "      <td>148.036517</td>\n",
              "      <td>57.425722</td>\n",
              "      <td>3.072454</td>\n",
              "      <td>137.528754</td>\n",
              "      <td>4.627244</td>\n",
              "      <td>12.526437</td>\n",
              "      <td>38.884498</td>\n",
              "      <td>8406.122449</td>\n",
              "      <td>4.707435</td>\n",
              "    </tr>\n",
              "    <tr>\n",
              "      <th>std</th>\n",
              "      <td>17.169714</td>\n",
              "      <td>13.683637</td>\n",
              "      <td>0.005717</td>\n",
              "      <td>1.352679</td>\n",
              "      <td>1.099191</td>\n",
              "      <td>79.281714</td>\n",
              "      <td>50.503006</td>\n",
              "      <td>5.741126</td>\n",
              "      <td>10.408752</td>\n",
              "      <td>3.193904</td>\n",
              "      <td>2.912587</td>\n",
              "      <td>8.990105</td>\n",
              "      <td>2944.474190</td>\n",
              "      <td>1.025323</td>\n",
              "    </tr>\n",
              "    <tr>\n",
              "      <th>min</th>\n",
              "      <td>2.000000</td>\n",
              "      <td>50.000000</td>\n",
              "      <td>1.005000</td>\n",
              "      <td>0.000000</td>\n",
              "      <td>0.000000</td>\n",
              "      <td>22.000000</td>\n",
              "      <td>1.500000</td>\n",
              "      <td>0.400000</td>\n",
              "      <td>4.500000</td>\n",
              "      <td>2.500000</td>\n",
              "      <td>3.100000</td>\n",
              "      <td>9.000000</td>\n",
              "      <td>2200.000000</td>\n",
              "      <td>2.100000</td>\n",
              "    </tr>\n",
              "    <tr>\n",
              "      <th>25%</th>\n",
              "      <td>42.000000</td>\n",
              "      <td>70.000000</td>\n",
              "      <td>1.010000</td>\n",
              "      <td>0.000000</td>\n",
              "      <td>0.000000</td>\n",
              "      <td>99.000000</td>\n",
              "      <td>27.000000</td>\n",
              "      <td>0.900000</td>\n",
              "      <td>135.000000</td>\n",
              "      <td>3.800000</td>\n",
              "      <td>10.300000</td>\n",
              "      <td>32.000000</td>\n",
              "      <td>6500.000000</td>\n",
              "      <td>3.900000</td>\n",
              "    </tr>\n",
              "    <tr>\n",
              "      <th>50%</th>\n",
              "      <td>55.000000</td>\n",
              "      <td>80.000000</td>\n",
              "      <td>1.020000</td>\n",
              "      <td>0.000000</td>\n",
              "      <td>0.000000</td>\n",
              "      <td>121.000000</td>\n",
              "      <td>42.000000</td>\n",
              "      <td>1.300000</td>\n",
              "      <td>138.000000</td>\n",
              "      <td>4.400000</td>\n",
              "      <td>12.650000</td>\n",
              "      <td>40.000000</td>\n",
              "      <td>8000.000000</td>\n",
              "      <td>4.800000</td>\n",
              "    </tr>\n",
              "    <tr>\n",
              "      <th>75%</th>\n",
              "      <td>64.500000</td>\n",
              "      <td>80.000000</td>\n",
              "      <td>1.020000</td>\n",
              "      <td>2.000000</td>\n",
              "      <td>0.000000</td>\n",
              "      <td>163.000000</td>\n",
              "      <td>66.000000</td>\n",
              "      <td>2.800000</td>\n",
              "      <td>142.000000</td>\n",
              "      <td>4.900000</td>\n",
              "      <td>15.000000</td>\n",
              "      <td>45.000000</td>\n",
              "      <td>9800.000000</td>\n",
              "      <td>5.400000</td>\n",
              "    </tr>\n",
              "    <tr>\n",
              "      <th>max</th>\n",
              "      <td>90.000000</td>\n",
              "      <td>180.000000</td>\n",
              "      <td>1.025000</td>\n",
              "      <td>5.000000</td>\n",
              "      <td>5.000000</td>\n",
              "      <td>490.000000</td>\n",
              "      <td>391.000000</td>\n",
              "      <td>76.000000</td>\n",
              "      <td>163.000000</td>\n",
              "      <td>47.000000</td>\n",
              "      <td>17.800000</td>\n",
              "      <td>54.000000</td>\n",
              "      <td>26400.000000</td>\n",
              "      <td>8.000000</td>\n",
              "    </tr>\n",
              "  </tbody>\n",
              "</table>\n",
              "</div>\n",
              "    <div class=\"colab-df-buttons\">\n",
              "\n",
              "  <div class=\"colab-df-container\">\n",
              "    <button class=\"colab-df-convert\" onclick=\"convertToInteractive('df-3e7d4f91-617b-490e-9c70-92acd06b3433')\"\n",
              "            title=\"Convert this dataframe to an interactive table.\"\n",
              "            style=\"display:none;\">\n",
              "\n",
              "  <svg xmlns=\"http://www.w3.org/2000/svg\" height=\"24px\" viewBox=\"0 -960 960 960\">\n",
              "    <path d=\"M120-120v-720h720v720H120Zm60-500h600v-160H180v160Zm220 220h160v-160H400v160Zm0 220h160v-160H400v160ZM180-400h160v-160H180v160Zm440 0h160v-160H620v160ZM180-180h160v-160H180v160Zm440 0h160v-160H620v160Z\"/>\n",
              "  </svg>\n",
              "    </button>\n",
              "\n",
              "  <style>\n",
              "    .colab-df-container {\n",
              "      display:flex;\n",
              "      gap: 12px;\n",
              "    }\n",
              "\n",
              "    .colab-df-convert {\n",
              "      background-color: #E8F0FE;\n",
              "      border: none;\n",
              "      border-radius: 50%;\n",
              "      cursor: pointer;\n",
              "      display: none;\n",
              "      fill: #1967D2;\n",
              "      height: 32px;\n",
              "      padding: 0 0 0 0;\n",
              "      width: 32px;\n",
              "    }\n",
              "\n",
              "    .colab-df-convert:hover {\n",
              "      background-color: #E2EBFA;\n",
              "      box-shadow: 0px 1px 2px rgba(60, 64, 67, 0.3), 0px 1px 3px 1px rgba(60, 64, 67, 0.15);\n",
              "      fill: #174EA6;\n",
              "    }\n",
              "\n",
              "    .colab-df-buttons div {\n",
              "      margin-bottom: 4px;\n",
              "    }\n",
              "\n",
              "    [theme=dark] .colab-df-convert {\n",
              "      background-color: #3B4455;\n",
              "      fill: #D2E3FC;\n",
              "    }\n",
              "\n",
              "    [theme=dark] .colab-df-convert:hover {\n",
              "      background-color: #434B5C;\n",
              "      box-shadow: 0px 1px 3px 1px rgba(0, 0, 0, 0.15);\n",
              "      filter: drop-shadow(0px 1px 2px rgba(0, 0, 0, 0.3));\n",
              "      fill: #FFFFFF;\n",
              "    }\n",
              "  </style>\n",
              "\n",
              "    <script>\n",
              "      const buttonEl =\n",
              "        document.querySelector('#df-3e7d4f91-617b-490e-9c70-92acd06b3433 button.colab-df-convert');\n",
              "      buttonEl.style.display =\n",
              "        google.colab.kernel.accessAllowed ? 'block' : 'none';\n",
              "\n",
              "      async function convertToInteractive(key) {\n",
              "        const element = document.querySelector('#df-3e7d4f91-617b-490e-9c70-92acd06b3433');\n",
              "        const dataTable =\n",
              "          await google.colab.kernel.invokeFunction('convertToInteractive',\n",
              "                                                    [key], {});\n",
              "        if (!dataTable) return;\n",
              "\n",
              "        const docLinkHtml = 'Like what you see? Visit the ' +\n",
              "          '<a target=\"_blank\" href=https://colab.research.google.com/notebooks/data_table.ipynb>data table notebook</a>'\n",
              "          + ' to learn more about interactive tables.';\n",
              "        element.innerHTML = '';\n",
              "        dataTable['output_type'] = 'display_data';\n",
              "        await google.colab.output.renderOutput(dataTable, element);\n",
              "        const docLink = document.createElement('div');\n",
              "        docLink.innerHTML = docLinkHtml;\n",
              "        element.appendChild(docLink);\n",
              "      }\n",
              "    </script>\n",
              "  </div>\n",
              "\n",
              "\n",
              "<div id=\"df-15f4dbc8-7f44-440f-abd3-359b9a2a3fc7\">\n",
              "  <button class=\"colab-df-quickchart\" onclick=\"quickchart('df-15f4dbc8-7f44-440f-abd3-359b9a2a3fc7')\"\n",
              "            title=\"Suggest charts\"\n",
              "            style=\"display:none;\">\n",
              "\n",
              "<svg xmlns=\"http://www.w3.org/2000/svg\" height=\"24px\"viewBox=\"0 0 24 24\"\n",
              "     width=\"24px\">\n",
              "    <g>\n",
              "        <path d=\"M19 3H5c-1.1 0-2 .9-2 2v14c0 1.1.9 2 2 2h14c1.1 0 2-.9 2-2V5c0-1.1-.9-2-2-2zM9 17H7v-7h2v7zm4 0h-2V7h2v10zm4 0h-2v-4h2v4z\"/>\n",
              "    </g>\n",
              "</svg>\n",
              "  </button>\n",
              "\n",
              "<style>\n",
              "  .colab-df-quickchart {\n",
              "      --bg-color: #E8F0FE;\n",
              "      --fill-color: #1967D2;\n",
              "      --hover-bg-color: #E2EBFA;\n",
              "      --hover-fill-color: #174EA6;\n",
              "      --disabled-fill-color: #AAA;\n",
              "      --disabled-bg-color: #DDD;\n",
              "  }\n",
              "\n",
              "  [theme=dark] .colab-df-quickchart {\n",
              "      --bg-color: #3B4455;\n",
              "      --fill-color: #D2E3FC;\n",
              "      --hover-bg-color: #434B5C;\n",
              "      --hover-fill-color: #FFFFFF;\n",
              "      --disabled-bg-color: #3B4455;\n",
              "      --disabled-fill-color: #666;\n",
              "  }\n",
              "\n",
              "  .colab-df-quickchart {\n",
              "    background-color: var(--bg-color);\n",
              "    border: none;\n",
              "    border-radius: 50%;\n",
              "    cursor: pointer;\n",
              "    display: none;\n",
              "    fill: var(--fill-color);\n",
              "    height: 32px;\n",
              "    padding: 0;\n",
              "    width: 32px;\n",
              "  }\n",
              "\n",
              "  .colab-df-quickchart:hover {\n",
              "    background-color: var(--hover-bg-color);\n",
              "    box-shadow: 0 1px 2px rgba(60, 64, 67, 0.3), 0 1px 3px 1px rgba(60, 64, 67, 0.15);\n",
              "    fill: var(--button-hover-fill-color);\n",
              "  }\n",
              "\n",
              "  .colab-df-quickchart-complete:disabled,\n",
              "  .colab-df-quickchart-complete:disabled:hover {\n",
              "    background-color: var(--disabled-bg-color);\n",
              "    fill: var(--disabled-fill-color);\n",
              "    box-shadow: none;\n",
              "  }\n",
              "\n",
              "  .colab-df-spinner {\n",
              "    border: 2px solid var(--fill-color);\n",
              "    border-color: transparent;\n",
              "    border-bottom-color: var(--fill-color);\n",
              "    animation:\n",
              "      spin 1s steps(1) infinite;\n",
              "  }\n",
              "\n",
              "  @keyframes spin {\n",
              "    0% {\n",
              "      border-color: transparent;\n",
              "      border-bottom-color: var(--fill-color);\n",
              "      border-left-color: var(--fill-color);\n",
              "    }\n",
              "    20% {\n",
              "      border-color: transparent;\n",
              "      border-left-color: var(--fill-color);\n",
              "      border-top-color: var(--fill-color);\n",
              "    }\n",
              "    30% {\n",
              "      border-color: transparent;\n",
              "      border-left-color: var(--fill-color);\n",
              "      border-top-color: var(--fill-color);\n",
              "      border-right-color: var(--fill-color);\n",
              "    }\n",
              "    40% {\n",
              "      border-color: transparent;\n",
              "      border-right-color: var(--fill-color);\n",
              "      border-top-color: var(--fill-color);\n",
              "    }\n",
              "    60% {\n",
              "      border-color: transparent;\n",
              "      border-right-color: var(--fill-color);\n",
              "    }\n",
              "    80% {\n",
              "      border-color: transparent;\n",
              "      border-right-color: var(--fill-color);\n",
              "      border-bottom-color: var(--fill-color);\n",
              "    }\n",
              "    90% {\n",
              "      border-color: transparent;\n",
              "      border-bottom-color: var(--fill-color);\n",
              "    }\n",
              "  }\n",
              "</style>\n",
              "\n",
              "  <script>\n",
              "    async function quickchart(key) {\n",
              "      const quickchartButtonEl =\n",
              "        document.querySelector('#' + key + ' button');\n",
              "      quickchartButtonEl.disabled = true;  // To prevent multiple clicks.\n",
              "      quickchartButtonEl.classList.add('colab-df-spinner');\n",
              "      try {\n",
              "        const charts = await google.colab.kernel.invokeFunction(\n",
              "            'suggestCharts', [key], {});\n",
              "      } catch (error) {\n",
              "        console.error('Error during call to suggestCharts:', error);\n",
              "      }\n",
              "      quickchartButtonEl.classList.remove('colab-df-spinner');\n",
              "      quickchartButtonEl.classList.add('colab-df-quickchart-complete');\n",
              "    }\n",
              "    (() => {\n",
              "      let quickchartButtonEl =\n",
              "        document.querySelector('#df-15f4dbc8-7f44-440f-abd3-359b9a2a3fc7 button');\n",
              "      quickchartButtonEl.style.display =\n",
              "        google.colab.kernel.accessAllowed ? 'block' : 'none';\n",
              "    })();\n",
              "  </script>\n",
              "</div>\n",
              "\n",
              "    </div>\n",
              "  </div>\n"
            ],
            "application/vnd.google.colaboratory.intrinsic+json": {
              "type": "dataframe",
              "summary": "{\n  \"name\": \"X_kidney\",\n  \"rows\": 8,\n  \"fields\": [\n    {\n      \"column\": \"age\",\n      \"properties\": {\n        \"dtype\": \"number\",\n        \"std\": 124.96066286828238,\n        \"min\": 2.0,\n        \"max\": 391.0,\n        \"num_unique_values\": 8,\n        \"samples\": [\n          51.48337595907928,\n          55.0,\n          391.0\n        ],\n        \"semantic_type\": \"\",\n        \"description\": \"\"\n      }\n    },\n    {\n      \"column\": \"bp\",\n      \"properties\": {\n        \"dtype\": \"number\",\n        \"std\": 119.0212751707383,\n        \"min\": 13.683637493525255,\n        \"max\": 388.0,\n        \"num_unique_values\": 7,\n        \"samples\": [\n          388.0,\n          76.46907216494846,\n          80.0\n        ],\n        \"semantic_type\": \"\",\n        \"description\": \"\"\n      }\n    },\n    {\n      \"column\": \"sg\",\n      \"properties\": {\n        \"dtype\": \"number\",\n        \"std\": 124.4965948725244,\n        \"min\": 0.005716616974376362,\n        \"max\": 353.0,\n        \"num_unique_values\": 7,\n        \"samples\": [\n          353.0,\n          1.0174079320113314,\n          1.02\n        ],\n        \"semantic_type\": \"\",\n        \"description\": \"\"\n      }\n    },\n    {\n      \"column\": \"al\",\n      \"properties\": {\n        \"dtype\": \"number\",\n        \"std\": 124.69573145448318,\n        \"min\": 0.0,\n        \"max\": 354.0,\n        \"num_unique_values\": 6,\n        \"samples\": [\n          354.0,\n          1.0169491525423728,\n          5.0\n        ],\n        \"semantic_type\": \"\",\n        \"description\": \"\"\n      }\n    },\n    {\n      \"column\": \"su\",\n      \"properties\": {\n        \"dtype\": \"number\",\n        \"std\": 123.77815413979741,\n        \"min\": 0.0,\n        \"max\": 351.0,\n        \"num_unique_values\": 5,\n        \"samples\": [\n          0.45014245014245013,\n          5.0,\n          1.099191251885409\n        ],\n        \"semantic_type\": \"\",\n        \"description\": \"\"\n      }\n    },\n    {\n      \"column\": \"bgr\",\n      \"properties\": {\n        \"dtype\": \"number\",\n        \"std\": 157.3682221906049,\n        \"min\": 22.0,\n        \"max\": 490.0,\n        \"num_unique_values\": 8,\n        \"samples\": [\n          148.0365168539326,\n          121.0,\n          356.0\n        ],\n        \"semantic_type\": \"\",\n        \"description\": \"\"\n      }\n    },\n    {\n      \"column\": \"bu\",\n      \"properties\": {\n        \"dtype\": \"number\",\n        \"std\": 161.06812991816776,\n        \"min\": 1.5,\n        \"max\": 391.0,\n        \"num_unique_values\": 8,\n        \"samples\": [\n          57.425721784776904,\n          42.0,\n          381.0\n        ],\n        \"semantic_type\": \"\",\n        \"description\": \"\"\n      }\n    },\n    {\n      \"column\": \"sc\",\n      \"properties\": {\n        \"dtype\": \"number\",\n        \"std\": 133.3772918788655,\n        \"min\": 0.4,\n        \"max\": 383.0,\n        \"num_unique_values\": 8,\n        \"samples\": [\n          3.072454308093995,\n          1.3,\n          383.0\n        ],\n        \"semantic_type\": \"\",\n        \"description\": \"\"\n      }\n    },\n    {\n      \"column\": \"sod\",\n      \"properties\": {\n        \"dtype\": \"number\",\n        \"std\": 96.30199646834795,\n        \"min\": 4.5,\n        \"max\": 313.0,\n        \"num_unique_values\": 8,\n        \"samples\": [\n          137.52875399361022,\n          138.0,\n          313.0\n        ],\n        \"semantic_type\": \"\",\n        \"description\": \"\"\n      }\n    },\n    {\n      \"column\": \"pot\",\n      \"properties\": {\n        \"dtype\": \"number\",\n        \"std\": 107.81460981356975,\n        \"min\": 2.5,\n        \"max\": 312.0,\n        \"num_unique_values\": 8,\n        \"samples\": [\n          4.62724358974359,\n          4.4,\n          312.0\n        ],\n        \"semantic_type\": \"\",\n        \"description\": \"\"\n      }\n    },\n    {\n      \"column\": \"hemo\",\n      \"properties\": {\n        \"dtype\": \"number\",\n        \"std\": 119.40085837792167,\n        \"min\": 2.9125866088267647,\n        \"max\": 348.0,\n        \"num_unique_values\": 8,\n        \"samples\": [\n          12.526436781609195,\n          12.649999999999999,\n          348.0\n        ],\n        \"semantic_type\": \"\",\n        \"description\": \"\"\n      }\n    },\n    {\n      \"column\": \"pcv\",\n      \"properties\": {\n        \"dtype\": \"number\",\n        \"std\": 106.04322618110021,\n        \"min\": 8.990104814740938,\n        \"max\": 329.0,\n        \"num_unique_values\": 8,\n        \"samples\": [\n          38.88449848024316,\n          40.0,\n          329.0\n        ],\n        \"semantic_type\": \"\",\n        \"description\": \"\"\n      }\n    },\n    {\n      \"column\": \"wbcc\",\n      \"properties\": {\n        \"dtype\": \"number\",\n        \"std\": 8130.705816027975,\n        \"min\": 294.0,\n        \"max\": 26400.0,\n        \"num_unique_values\": 8,\n        \"samples\": [\n          8406.122448979591,\n          8000.0,\n          294.0\n        ],\n        \"semantic_type\": \"\",\n        \"description\": \"\"\n      }\n    },\n    {\n      \"column\": \"rbcc\",\n      \"properties\": {\n        \"dtype\": \"number\",\n        \"std\": 93.61771199189938,\n        \"min\": 1.0253232655721793,\n        \"max\": 269.0,\n        \"num_unique_values\": 8,\n        \"samples\": [\n          4.707434944237917,\n          4.8,\n          269.0\n        ],\n        \"semantic_type\": \"\",\n        \"description\": \"\"\n      }\n    }\n  ]\n}"
            }
          },
          "metadata": {},
          "execution_count": 7
        }
      ]
    },
    {
      "cell_type": "code",
      "source": [
        "X_kidney.shape"
      ],
      "metadata": {
        "colab": {
          "base_uri": "https://localhost:8080/"
        },
        "id": "u53wUfyzDvqR",
        "outputId": "449ed857-a7fe-4d9a-cd96-7e8e1fc95efa"
      },
      "execution_count": 8,
      "outputs": [
        {
          "output_type": "execute_result",
          "data": {
            "text/plain": [
              "(400, 24)"
            ]
          },
          "metadata": {},
          "execution_count": 8
        }
      ]
    },
    {
      "cell_type": "code",
      "source": [
        "X_kidney.columns"
      ],
      "metadata": {
        "colab": {
          "base_uri": "https://localhost:8080/"
        },
        "id": "xMtQRPavEOEo",
        "outputId": "c3fbc793-a82f-41b4-c792-7051a6765269"
      },
      "execution_count": 9,
      "outputs": [
        {
          "output_type": "execute_result",
          "data": {
            "text/plain": [
              "Index(['age', 'bp', 'sg', 'al', 'su', 'rbc', 'pc', 'pcc', 'ba', 'bgr', 'bu',\n",
              "       'sc', 'sod', 'pot', 'hemo', 'pcv', 'wbcc', 'rbcc', 'htn', 'dm', 'cad',\n",
              "       'appet', 'pe', 'ane'],\n",
              "      dtype='object')"
            ]
          },
          "metadata": {},
          "execution_count": 9
        }
      ]
    },
    {
      "cell_type": "code",
      "source": [
        "X_kidney.info()"
      ],
      "metadata": {
        "colab": {
          "base_uri": "https://localhost:8080/"
        },
        "id": "A8TpTfkUESMs",
        "outputId": "8572a86e-b3f6-4ed9-8e8f-264538e5de92"
      },
      "execution_count": 10,
      "outputs": [
        {
          "output_type": "stream",
          "name": "stdout",
          "text": [
            "<class 'pandas.core.frame.DataFrame'>\n",
            "RangeIndex: 400 entries, 0 to 399\n",
            "Data columns (total 24 columns):\n",
            " #   Column  Non-Null Count  Dtype  \n",
            "---  ------  --------------  -----  \n",
            " 0   age     391 non-null    float64\n",
            " 1   bp      388 non-null    float64\n",
            " 2   sg      353 non-null    float64\n",
            " 3   al      354 non-null    float64\n",
            " 4   su      351 non-null    float64\n",
            " 5   rbc     248 non-null    object \n",
            " 6   pc      335 non-null    object \n",
            " 7   pcc     396 non-null    object \n",
            " 8   ba      396 non-null    object \n",
            " 9   bgr     356 non-null    float64\n",
            " 10  bu      381 non-null    float64\n",
            " 11  sc      383 non-null    float64\n",
            " 12  sod     313 non-null    float64\n",
            " 13  pot     312 non-null    float64\n",
            " 14  hemo    348 non-null    float64\n",
            " 15  pcv     329 non-null    float64\n",
            " 16  wbcc    294 non-null    float64\n",
            " 17  rbcc    269 non-null    float64\n",
            " 18  htn     398 non-null    object \n",
            " 19  dm      398 non-null    object \n",
            " 20  cad     398 non-null    object \n",
            " 21  appet   399 non-null    object \n",
            " 22  pe      399 non-null    object \n",
            " 23  ane     399 non-null    object \n",
            "dtypes: float64(14), object(10)\n",
            "memory usage: 75.1+ KB\n"
          ]
        }
      ]
    },
    {
      "cell_type": "markdown",
      "source": [
        "Since this is a mixed dtypes we have to change the object to numeric as these contains normal or abnormal."
      ],
      "metadata": {
        "id": "gYvKZMxEF9Vn"
      }
    },
    {
      "cell_type": "code",
      "source": [
        "X_kidney.duplicated().sum()"
      ],
      "metadata": {
        "colab": {
          "base_uri": "https://localhost:8080/"
        },
        "id": "O7iu3drbEcqa",
        "outputId": "2aa76f49-8d0c-406d-d785-d8612de21b32"
      },
      "execution_count": 11,
      "outputs": [
        {
          "output_type": "execute_result",
          "data": {
            "text/plain": [
              "0"
            ]
          },
          "metadata": {},
          "execution_count": 11
        }
      ]
    },
    {
      "cell_type": "markdown",
      "source": [
        "There is no duplicates"
      ],
      "metadata": {
        "id": "h6ylgyoaHcSp"
      }
    },
    {
      "cell_type": "code",
      "source": [
        "y_kidney.info()"
      ],
      "metadata": {
        "colab": {
          "base_uri": "https://localhost:8080/"
        },
        "id": "HgFI5QykINlR",
        "outputId": "0fcc283b-410c-4e8b-caa9-19eaa104bf9c"
      },
      "execution_count": 12,
      "outputs": [
        {
          "output_type": "stream",
          "name": "stdout",
          "text": [
            "<class 'pandas.core.frame.DataFrame'>\n",
            "RangeIndex: 400 entries, 0 to 399\n",
            "Data columns (total 1 columns):\n",
            " #   Column  Non-Null Count  Dtype \n",
            "---  ------  --------------  ----- \n",
            " 0   class   400 non-null    object\n",
            "dtypes: object(1)\n",
            "memory usage: 3.2+ KB\n"
          ]
        }
      ]
    },
    {
      "cell_type": "code",
      "source": [
        "print(y_kidney['class'])"
      ],
      "metadata": {
        "colab": {
          "base_uri": "https://localhost:8080/"
        },
        "id": "RHtwanGz5stC",
        "outputId": "a33bf526-94f0-4044-bf69-a6f26eaa32f3"
      },
      "execution_count": 18,
      "outputs": [
        {
          "output_type": "stream",
          "name": "stdout",
          "text": [
            "0         ckd\n",
            "1         ckd\n",
            "2         ckd\n",
            "3         ckd\n",
            "4         ckd\n",
            "        ...  \n",
            "395    notckd\n",
            "396    notckd\n",
            "397    notckd\n",
            "398    notckd\n",
            "399    notckd\n",
            "Name: class, Length: 400, dtype: object\n"
          ]
        }
      ]
    },
    {
      "cell_type": "code",
      "source": [
        "# Check for unique values in the target variable\n",
        "print(y_kidney['class'].unique())\n"
      ],
      "metadata": {
        "colab": {
          "base_uri": "https://localhost:8080/"
        },
        "id": "ryLP_OTr5kTC",
        "outputId": "e9e34e6d-5f57-4872-88e5-2a723a95c0db"
      },
      "execution_count": 16,
      "outputs": [
        {
          "output_type": "stream",
          "name": "stdout",
          "text": [
            "['ckd' 'ckd\\t' 'notckd']\n"
          ]
        }
      ]
    },
    {
      "cell_type": "code",
      "source": [
        "y_kidney['class'] = y_kidney['class'].str.strip()"
      ],
      "metadata": {
        "colab": {
          "base_uri": "https://localhost:8080/"
        },
        "id": "j3kE-Yir6Vr8",
        "outputId": "3ce65639-c20d-4fb2-87d5-6593a336370b"
      },
      "execution_count": 19,
      "outputs": [
        {
          "output_type": "stream",
          "name": "stderr",
          "text": [
            "<ipython-input-19-d3fa0249a850>:1: SettingWithCopyWarning: \n",
            "A value is trying to be set on a copy of a slice from a DataFrame.\n",
            "Try using .loc[row_indexer,col_indexer] = value instead\n",
            "\n",
            "See the caveats in the documentation: https://pandas.pydata.org/pandas-docs/stable/user_guide/indexing.html#returning-a-view-versus-a-copy\n",
            "  y_kidney['class'] = y_kidney['class'].str.strip()\n"
          ]
        }
      ]
    },
    {
      "cell_type": "code",
      "source": [
        "# Plot distribution of target variable (class column in y_kidney)\n",
        "sns.countplot(x=y_kidney['class'])\n",
        "plt.title(\"Distribution of Target Variable (Chronic Kidney Disease)\")\n",
        "plt.show()\n"
      ],
      "metadata": {
        "colab": {
          "base_uri": "https://localhost:8080/",
          "height": 472
        },
        "id": "qxHS2hNk47rU",
        "outputId": "31e9b921-0750-42e8-8bf0-9ec539ca852d"
      },
      "execution_count": 20,
      "outputs": [
        {
          "output_type": "display_data",
          "data": {
            "text/plain": [
              "<Figure size 640x480 with 1 Axes>"
            ],
            "image/png": "[encoded data removed]"
          },
          "metadata": {}
        }
      ]
    },
    {
      "cell_type": "code",
      "source": [
        "# Plot pie chart\n",
        "plot_df = y_kidney['class'].value_counts()\n",
        "print(plot_df)\n",
        "plot_df.plot(kind=\"pie\", autopct='%1.1f%%', figsize=(5, 5), title='')\n",
        "plt.show()\n"
      ],
      "metadata": {
        "colab": {
          "base_uri": "https://localhost:8080/",
          "height": 491
        },
        "id": "O3c7_1g86n3-",
        "outputId": "3720ca29-352b-4b8c-ab9f-bcbffc1f25ef"
      },
      "execution_count": 21,
      "outputs": [
        {
          "output_type": "stream",
          "name": "stdout",
          "text": [
            "class\n",
            "ckd       250\n",
            "notckd    150\n",
            "Name: count, dtype: int64\n"
          ]
        },
        {
          "output_type": "display_data",
          "data": {
            "text/plain": [
              "<Figure size 500x500 with 1 Axes>"
            ],
            "image/png": "[encoded data removed]"
          },
          "metadata": {}
        }
      ]
    },
    {
      "cell_type": "code",
      "source": [
        "# Separate numerical and categorical features\n",
        "numerical_features = X_kidney.select_dtypes(include=['int64', 'float64']).columns.tolist()\n",
        "categorical_features = X_kidney.select_dtypes(include=['object']).columns.tolist()\n",
        "\n",
        "# Print the results\n",
        "print(\"Numerical Features:\", numerical_features)\n",
        "print(\"Categorical Features:\", categorical_features)"
      ],
      "metadata": {
        "colab": {
          "base_uri": "https://localhost:8080/"
        },
        "id": "Zzx5ehFQ63Mu",
        "outputId": "5d9ade01-ba7c-475d-df5f-cb7fd1e12994"
      },
      "execution_count": 22,
      "outputs": [
        {
          "output_type": "stream",
          "name": "stdout",
          "text": [
            "Numerical Features: ['age', 'bp', 'sg', 'al', 'su', 'bgr', 'bu', 'sc', 'sod', 'pot', 'hemo', 'pcv', 'wbcc', 'rbcc']\n",
            "Categorical Features: ['rbc', 'pc', 'pcc', 'ba', 'htn', 'dm', 'cad', 'appet', 'pe', 'ane']\n"
          ]
        }
      ]
    }
  ]
}